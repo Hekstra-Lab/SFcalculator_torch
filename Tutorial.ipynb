{
 "cells": [
  {
   "cell_type": "code",
   "execution_count": 1,
   "id": "3f0208f6-4728-47be-ac6b-edb8da7cdb97",
   "metadata": {
    "execution": {
     "iopub.execute_input": "2023-06-05T02:43:05.370894Z",
     "iopub.status.busy": "2023-06-05T02:43:05.370596Z",
     "iopub.status.idle": "2023-06-05T02:43:07.579824Z",
     "shell.execute_reply": "2023-06-05T02:43:07.579127Z",
     "shell.execute_reply.started": "2023-06-05T02:43:05.370870Z"
    },
    "tags": []
   },
   "outputs": [],
   "source": [
    "from SFC_Torch import SFcalculator"
   ]
  },
  {
   "cell_type": "code",
   "execution_count": 2,
   "id": "09a9694e-14c9-4eea-a517-8ddcc16cbef3",
   "metadata": {
    "execution": {
     "iopub.execute_input": "2023-06-05T02:43:07.589250Z",
     "iopub.status.busy": "2023-06-05T02:43:07.589007Z",
     "iopub.status.idle": "2023-06-05T02:43:07.592649Z",
     "shell.execute_reply": "2023-06-05T02:43:07.592039Z",
     "shell.execute_reply.started": "2023-06-05T02:43:07.589229Z"
    },
    "tags": []
   },
   "outputs": [],
   "source": [
    "pdb_file = './data/models/6RY3.pdb'\n",
    "mtz_file = './data/reflections/6RY3.mtz'"
   ]
  },
  {
   "cell_type": "code",
   "execution_count": 3,
   "id": "90189952-d615-419e-950a-04f5e9dfd56d",
   "metadata": {
    "execution": {
     "iopub.execute_input": "2023-06-05T02:43:40.155407Z",
     "iopub.status.busy": "2023-06-05T02:43:40.155078Z",
     "iopub.status.idle": "2023-06-05T02:43:43.792278Z",
     "shell.execute_reply": "2023-06-05T02:43:43.791484Z",
     "shell.execute_reply.started": "2023-06-05T02:43:40.155375Z"
    },
    "tags": []
   },
   "outputs": [],
   "source": [
    "sfcalculator = SFcalculator(pdb_file, mtz_file, expcolumns=['FP', 'SIGFP'], set_experiment=True, freeflag='FREE', testset_value=0)"
   ]
  },
  {
   "cell_type": "code",
   "execution_count": 4,
   "id": "6caadd81-2e8f-4e6c-a607-e03963f1a125",
   "metadata": {
    "execution": {
     "iopub.execute_input": "2023-06-05T02:43:44.511470Z",
     "iopub.status.busy": "2023-06-05T02:43:44.510769Z",
     "iopub.status.idle": "2023-06-05T02:43:44.515263Z",
     "shell.execute_reply": "2023-06-05T02:43:44.514586Z",
     "shell.execute_reply.started": "2023-06-05T02:43:44.511443Z"
    },
    "tags": []
   },
   "outputs": [
    {
     "name": "stdout",
     "output_type": "stream",
     "text": [
      "N_HKL:  16799\n",
      "N_atoms:  641\n"
     ]
    }
   ],
   "source": [
    "print(\"N_HKL: \", len(sfcalculator.HKL_array))\n",
    "print(\"N_atoms: \", sfcalculator.n_atoms)"
   ]
  },
  {
   "cell_type": "code",
   "execution_count": 5,
   "id": "d671072e-e294-4004-bf1f-bd9b2c954bac",
   "metadata": {
    "execution": {
     "iopub.execute_input": "2023-06-05T02:43:47.045108Z",
     "iopub.status.busy": "2023-06-05T02:43:47.044281Z",
     "iopub.status.idle": "2023-06-05T02:43:47.493413Z",
     "shell.execute_reply": "2023-06-05T02:43:47.492735Z",
     "shell.execute_reply.started": "2023-06-05T02:43:47.045080Z"
    },
    "tags": []
   },
   "outputs": [
    {
     "name": "stdout",
     "output_type": "stream",
     "text": [
      "Solvent Percentage: tensor(0.3580, device='cuda:0')\n",
      "Grid size: [96, 96, 180]\n"
     ]
    }
   ],
   "source": [
    "# This is necessary before the following calculation, for the solvent percentage and grid size\n",
    "# Typically you only have to do it once\n",
    "sfcalculator.inspect_data(verbose=True)"
   ]
  },
  {
   "cell_type": "code",
   "execution_count": 6,
   "id": "38842aa7-f347-4073-9e99-569fc902e79c",
   "metadata": {
    "execution": {
     "iopub.execute_input": "2023-06-05T02:43:48.879840Z",
     "iopub.status.busy": "2023-06-05T02:43:48.879145Z",
     "iopub.status.idle": "2023-06-05T02:43:48.934453Z",
     "shell.execute_reply": "2023-06-05T02:43:48.933623Z",
     "shell.execute_reply.started": "2023-06-05T02:43:48.879811Z"
    },
    "tags": []
   },
   "outputs": [],
   "source": [
    "# The results will be stored in sfcalculator.Fprotein_HKL and sfcalculator.Fmask_HKL, used for future calculation\n",
    "# You can also return the tensor by Return=True\n",
    "sfcalculator.calc_fprotein(atoms_position_tensor=None, atoms_biso_tensor=None, atoms_occ_tensor=None, atoms_aniso_uw_tensor=None)\n",
    "sfcalculator.calc_fsolvent()"
   ]
  },
  {
   "cell_type": "code",
   "execution_count": 8,
   "id": "5eba1f97-25b5-4fe1-8f07-de8c8287d13a",
   "metadata": {
    "execution": {
     "iopub.execute_input": "2023-06-05T02:45:27.873107Z",
     "iopub.status.busy": "2023-06-05T02:45:27.872326Z",
     "iopub.status.idle": "2023-06-05T02:45:27.931804Z",
     "shell.execute_reply": "2023-06-05T02:45:27.930826Z",
     "shell.execute_reply.started": "2023-06-05T02:45:27.873081Z"
    },
    "tags": []
   },
   "outputs": [],
   "source": [
    "# Get the unparameterized scales\n",
    "# stored in sfcalculator.kmasks, sfcalculator.uanisos, sfcalculator.kisos\n",
    "# If you want do a further optimization, there is \n",
    "# sfcalculator.get_scales_adam() or sfcalculator.get_scales_lbfgs()\n",
    "sfcalculator.init_scales(requires_grad=True)"
   ]
  },
  {
   "cell_type": "code",
   "execution_count": 9,
   "id": "0321027c-152b-4e8d-a8d7-cc7611b82c3f",
   "metadata": {
    "execution": {
     "iopub.execute_input": "2023-06-05T02:45:32.810354Z",
     "iopub.status.busy": "2023-06-05T02:45:32.809562Z",
     "iopub.status.idle": "2023-06-05T02:45:32.827793Z",
     "shell.execute_reply": "2023-06-05T02:45:32.827135Z",
     "shell.execute_reply.started": "2023-06-05T02:45:32.810319Z"
    },
    "tags": []
   },
   "outputs": [],
   "source": [
    "# Get the Fmodel for future loss function construction\n",
    "Fmodel = sfcalculator.calc_ftotal()"
   ]
  },
  {
   "cell_type": "code",
   "execution_count": 10,
   "id": "bc9e3275-1535-4033-a14f-7fc4593a1ca1",
   "metadata": {
    "execution": {
     "iopub.execute_input": "2023-06-05T02:45:35.065383Z",
     "iopub.status.busy": "2023-06-05T02:45:35.064592Z",
     "iopub.status.idle": "2023-06-05T02:45:35.098907Z",
     "shell.execute_reply": "2023-06-05T02:45:35.098235Z",
     "shell.execute_reply.started": "2023-06-05T02:45:35.065354Z"
    },
    "tags": []
   },
   "outputs": [
    {
     "name": "stdout",
     "output_type": "stream",
     "text": [
      "Resolution       N_work  N_free  <Fobs> <|Fmodel|>  R_work  R_free  k_mask   k_iso\n",
      "38.17 - 8.31         92       8   190.1     191.4   0.441   0.412   0.036   0.624\n",
      "8.31 - 6.38         103       7   179.3     176.1   0.285   0.124   0.030   0.760\n",
      "6.38 - 5.27         141       8   139.7     146.2   0.320   0.289   0.020   0.630\n",
      "5.27 - 4.35         245       8   210.2     207.0   0.232   0.211   0.010   0.706\n",
      "4.35 - 3.59         427      19   207.0     204.1   0.191   0.225   0.000   0.726\n",
      "3.59 - 2.96         749      35   155.8     154.8   0.176   0.183   0.004   0.769\n",
      "2.96 - 2.44        1269      61   109.6     107.6   0.184   0.240   0.000   0.777\n",
      "2.44 - 2.02        2223     125    85.8      84.4   0.156   0.194   0.000   0.856\n",
      "2.02 - 1.66        3911     193    46.8      47.2   0.181   0.197   0.000   0.828\n",
      "1.66 - 1.37        6804     371    26.1      24.2   0.221   0.263   0.000   0.744\n",
      "r_work: 0.196  \n",
      "r_free: 0.223  \n",
      "Number of outliers: 0      \n"
     ]
    }
   ],
   "source": [
    "sfcalculator.summarize()"
   ]
  }
 ],
 "metadata": {
  "kernelspec": {
   "display_name": "torch",
   "language": "python",
   "name": "torch"
  },
  "language_info": {
   "codemirror_mode": {
    "name": "ipython",
    "version": 3
   },
   "file_extension": ".py",
   "mimetype": "text/x-python",
   "name": "python",
   "nbconvert_exporter": "python",
   "pygments_lexer": "ipython3",
   "version": "3.10.10"
  }
 },
 "nbformat": 4,
 "nbformat_minor": 5
}
